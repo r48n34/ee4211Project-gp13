{
  "nbformat": 4,
  "nbformat_minor": 0,
  "metadata": {
    "colab": {
      "name": "yolov5BirdTrainingFinal.ipynb",
      "provenance": [],
      "collapsed_sections": []
    },
    "kernelspec": {
      "name": "python3",
      "display_name": "Python 3"
    },
    "language_info": {
      "name": "python"
    },
    "accelerator": "GPU"
  },
  "cells": [
    {
      "cell_type": "markdown",
      "source": [
        "# Sure we have enable GPU"
      ],
      "metadata": {
        "id": "r4n8uq6dM2FT"
      }
    },
    {
      "cell_type": "code",
      "source": [
        "gpu_info = !nvidia-smi\n",
        "gpu_info = '\\n'.join(gpu_info)\n",
        "if gpu_info.find('failed') >= 0:\n",
        "  print('Not connected to a GPU')\n",
        "else:\n",
        "  print(gpu_info)"
      ],
      "metadata": {
        "id": "hi1Z1jQ3M1yr"
      },
      "execution_count": null,
      "outputs": []
    },
    {
      "cell_type": "markdown",
      "source": [
        "# Install library and ready dataset"
      ],
      "metadata": {
        "id": "Z5mqVKrRLRGU"
      }
    },
    {
      "cell_type": "code",
      "source": [
        "!pip install -q kaggle"
      ],
      "metadata": {
        "id": "X_eeK5WnJ-zn"
      },
      "execution_count": 1,
      "outputs": []
    },
    {
      "cell_type": "code",
      "source": [
        "!mkdir -p ~/.kaggle/ && cp /content/drive/MyDrive/kaggle.json ~/.kaggle/ && chmod 600 ~/.kaggle/kaggle.json\n",
        "!kaggle competitions download ee4211-object-detection --force\n",
        "!unzip /content/ee4211-object-detection.zip -d /content"
      ],
      "metadata": {
        "id": "fsZpMEdPKnQr"
      },
      "execution_count": null,
      "outputs": []
    },
    {
      "cell_type": "code",
      "source": [
        "# Our dataset that process with yolov5 label format\n",
        "!unzip /content/drive/MyDrive/yoloUseEEv2.zip -d /content"
      ],
      "metadata": {
        "id": "5X5wklOZ8Zsw"
      },
      "execution_count": null,
      "outputs": []
    },
    {
      "cell_type": "markdown",
      "source": [
        "# Install yolov5"
      ],
      "metadata": {
        "id": "1z_gmOmnLWUy"
      }
    },
    {
      "cell_type": "code",
      "source": [
        "!git clone https://github.com/ultralytics/yolov5  \n",
        "%cd yolov5\n",
        "%pip install -qr requirements.txt"
      ],
      "metadata": {
        "id": "J83wDpM21kT9",
        "colab": {
          "base_uri": "https://localhost:8080/"
        },
        "outputId": "f08c343a-1689-4a0d-cf57-0f4dd772c5e8"
      },
      "execution_count": 4,
      "outputs": [
        {
          "output_type": "stream",
          "name": "stdout",
          "text": [
            "fatal: destination path 'yolov5' already exists and is not an empty directory.\n",
            "/content/yolov5\n",
            "\u001b[K     |████████████████████████████████| 596 kB 34.8 MB/s \n",
            "\u001b[?25h"
          ]
        }
      ]
    },
    {
      "cell_type": "code",
      "execution_count": 6,
      "metadata": {
        "id": "HoCByZrx1B5Y",
        "colab": {
          "base_uri": "https://localhost:8080/"
        },
        "outputId": "ff7cb9de-2496-48bd-b506-be836ff52b9d"
      },
      "outputs": [
        {
          "output_type": "stream",
          "name": "stderr",
          "text": [
            "YOLOv5 🚀 v6.1-118-g3bb233a torch 1.10.0+cu111 CUDA:0 (Tesla T4, 15110MiB)\n"
          ]
        },
        {
          "output_type": "stream",
          "name": "stdout",
          "text": [
            "Setup complete ✅ (2 CPUs, 12.7 GB RAM, 40.3/166.8 GB disk)\n"
          ]
        }
      ],
      "source": [
        "import torch\n",
        "from yolov5 import utils\n",
        "display = utils.notebook_init()  # checks"
      ]
    },
    {
      "cell_type": "markdown",
      "source": [
        "# Training"
      ],
      "metadata": {
        "id": "OQPu4wkBNC7i"
      }
    },
    {
      "cell_type": "code",
      "source": [
        "!python train.py --img 640 --batch 16 --epochs 140 --data /content/yoloUseEEv2/flow.ymal --weights yolov5l.pt --cache"
      ],
      "metadata": {
        "id": "TAOeKGkU17as"
      },
      "execution_count": null,
      "outputs": []
    },
    {
      "cell_type": "markdown",
      "source": [
        "# Download model"
      ],
      "metadata": {
        "id": "HDn9i_KwNEHx"
      }
    },
    {
      "cell_type": "code",
      "source": [
        "!zip -r /content/yolov5Train4.zip /content/yolov5/runs/train/exp2"
      ],
      "metadata": {
        "id": "cZtn0owoNA5h"
      },
      "execution_count": null,
      "outputs": []
    },
    {
      "cell_type": "markdown",
      "source": [
        "# Generating csv"
      ],
      "metadata": {
        "id": "4-6ZmHQRNG00"
      }
    },
    {
      "cell_type": "code",
      "source": [
        "import torch\n",
        "import os\n",
        "import pandas as pd\n",
        "import numpy as np \n",
        "import PIL\n",
        "\n",
        "# model location\n",
        "model = torch.hub.load('ultralytics/yolov5', 'custom', path=\"/content/yolov5/runs/train/exp2/weights/best.pt\")\n",
        "\n",
        "imgDir = \"/content/Data/Test/images\"\n",
        "imgArr = os.listdir(imgDir)\n",
        "\n",
        "# imgArr to proper img with path\n",
        "imgs = [os.path.join(imgDir,i) for i in imgArr]\n",
        "\n",
        "model.conf = 0.20  # NMS confidence threshold\n",
        "model.iou = 0.30  # NMS IoU threshold\n",
        "\n",
        "# transfer bbox to coco format\n",
        "def calBoxPt (xmin,ymin, xmax, ymax, width, height):\n",
        "    x = xmin / width\n",
        "    y = ymin / height\n",
        "\n",
        "    w = (xmax - xmin) / width\n",
        "    h = (ymax - ymin) / height\n",
        "\n",
        "    return [x,y,w,h]\n",
        "\n",
        "finalArr = []\n",
        "for ind, img in enumerate(imgs):\n",
        "    image = PIL.Image.open(img)\n",
        "    width, height = image.size\n",
        "\n",
        "    results = model(img) # predict result\n",
        "    res = results.pandas().xyxy[0] # predict result to bbox arr\n",
        "\n",
        "    if len(res.confidence) >= 1 : # have predict result box\n",
        "      finalArr.append([ imgArr[ind] , int(res.xmin[0]), int(res.ymin[0]), int(res.xmax[0]), int(res.ymax[0])  ])\n",
        "    else:\n",
        "      finalArr.append([ imgArr[ind], 0,0,0,0 ])\n",
        "\n",
        "\n",
        "print(len(finalArr))\n",
        "finalArr = np.array(finalArr)\n",
        "df = pd.DataFrame({\n",
        "    'ImageId': finalArr[:, 0],\n",
        "    ' X_min': finalArr[:, 1],\n",
        "    ' Y_min': finalArr[:, 2],\n",
        "    ' X_max': finalArr[:, 3],\n",
        "    ' Y_max': finalArr[:, 4]\n",
        "})\n",
        "\n",
        "df.to_csv(\"outputNewSmall.csv\" , index=False)"
      ],
      "metadata": {
        "id": "w13s0YJWoam0"
      },
      "execution_count": null,
      "outputs": []
    }
  ]
}